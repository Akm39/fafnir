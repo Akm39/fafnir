{
 "cells": [
  {
   "cell_type": "code",
   "execution_count": 1,
   "metadata": {},
   "outputs": [],
   "source": [
    "from optimize import optimizer\n",
    "from data import data_loader\n",
    "from all_coefs import load_coefs\n",
    "from spread import spread_manager\n",
    "from revert import df_to_inv_mom,df_to_dict\n",
    "from tqdm.notebook import tqdm\n",
    "\n",
    "import datetime as dt\n",
    "import pandas as pd\n",
    "import numpy as np"
   ]
  },
  {
   "cell_type": "code",
   "execution_count": 2,
   "metadata": {},
   "outputs": [],
   "source": [
    "data=data_loader('2024-01-01')\n",
    "price_data=data.load_price()\n",
    "\n",
    "price_dict=df_to_dict(price_data)\n",
    "\n",
    "coef_matrix=load_coefs(data,'t025imb05corr085typestd.pkl')\n",
    "\n",
    "spreads=spread_manager(price_data,coef_matrix)\n",
    "spreads.calc_costs()\n",
    "signals=spreads.raw_signal()\n",
    "z_score=spreads.new_z_score()\n",
    "rev=df_to_inv_mom(z_score)\n",
    "filterer=spreads.signal_z_score_filter()\n",
    "\n",
    "signal_dict=df_to_dict(signals)\n",
    "rev_dict=df_to_dict(rev)\n",
    "filter_dict=df_to_dict(filterer)"
   ]
  },
  {
   "cell_type": "code",
   "execution_count": 3,
   "metadata": {},
   "outputs": [],
   "source": [
    "start_date=dt.datetime(2021,12,31)\n",
    "end_date=dt.datetime(2024,1,1)\n",
    "dates_used=data.all_dates()[(data.all_dates()>=pd.Timestamp(start_date))&(data.all_dates()<pd.Timestamp(end_date))]"
   ]
  },
  {
   "cell_type": "code",
   "execution_count": 4,
   "metadata": {},
   "outputs": [],
   "source": [
    "start_dates=[]\n",
    "end_dates=[]\n",
    "for i in range(len(dates_used)):\n",
    "    try:\n",
    "        end_dates.append(dates_used[i+1])\n",
    "        start_dates.append(dates_used[i])\n",
    "    except:\n",
    "        break"
   ]
  },
  {
   "cell_type": "code",
   "execution_count": null,
   "metadata": {},
   "outputs": [
    {
     "data": {
      "application/vnd.jupyter.widget-view+json": {
       "model_id": "571e66f86da7458b92616ba276ac1f5a",
       "version_major": 2,
       "version_minor": 0
      },
      "text/plain": [
       "  0%|          | 0/501 [00:00<?, ?it/s]"
      ]
     },
     "metadata": {},
     "output_type": "display_data"
    }
   ],
   "source": [
    "#PARAMETERS\n",
    "start_val=100e6\n",
    "\n",
    "lam_1=-1\n",
    "lam_2=1\n",
    "lam_3=10\n",
    "\n",
    "prog=tqdm(total=len(start_dates))\n",
    "\n",
    "w_0=price_dict[start_dates[0]].copy()\n",
    "w_0[:]=0\n",
    "try:\n",
    "    w_0.drop('CONST',inplace=True)\n",
    "except:\n",
    "    pass\n",
    "\n",
    "w_0s=[w_0]\n",
    "start_vals=[start_val]\n",
    "\n",
    "w_1s=[]\n",
    "final_vals=[]\n",
    "\n",
    "t_costs=[]\n",
    "loan_cost=[]\n",
    "short_int=[]\n",
    "mm_int=[]\n",
    "daily_pnl=[]\n",
    "\n",
    "net_pos=[]\n",
    "tot_pos=[]\n",
    "beta=[]\n",
    "vol=[]\n",
    "\n",
    "opt=optimizer(data,signal_dict,rev_dict,price_dict,filter_dict,coef_matrix)\n",
    "\n",
    "for i in range(len(start_dates)):\n",
    "    if i==0:\n",
    "        pass\n",
    "    else:\n",
    "        w_0=w_1s[-1]\n",
    "        start_val=final_vals[-1]\n",
    "        w_0s.append(w_0)\n",
    "        start_vals.append(start_val)\n",
    "    \n",
    "    t,w,betas,cov=opt.optimize(w_0,start_dates[i],lam_1=lam_1,lam_2=lam_2,lam_3=lam_3,n_epochs=101)\n",
    "    t,w,betas,cov=opt.optimize(w_0,start_dates[i],lam_1=lam_1,lam_2=lam_2,lam_3=lam_3,n_epochs=101,t=t)\n",
    "    t,w,betas,cov=opt.optimize(w_0,start_dates[i],lam_1=lam_1,lam_2=lam_2,lam_3=lam_3,n_epochs=101,t=t)\n",
    "    t,w,betas,cov=opt.optimize(w_0,start_dates[i],lam_1=lam_1,lam_2=lam_2,lam_3=lam_3,n_epochs=101,t=t)\n",
    "    t,w,betas,cov=opt.optimize(w_0,start_dates[i],lam_1=lam_1,lam_2=lam_2,lam_3=lam_3,n_epochs=101,t=t)\n",
    "    t,w,betas,cov=opt.optimize(w_0,start_dates[i],lam_1=lam_1,lam_2=lam_2,lam_3=lam_3,n_epochs=101,t=t)\n",
    "\n",
    "    a,b,c,d,e,f,g=opt.pnl.calc_pnl(start_val,end_dates[0],w_0,w,return_type='all')\n",
    "\n",
    "    w_1s.append(b)\n",
    "    final_vals.append(a)\n",
    "    t_costs.append(c)\n",
    "    loan_cost.append(d)\n",
    "    short_int.append(e)\n",
    "    mm_int.append(f)\n",
    "    daily_pnl.append(g)\n",
    "\n",
    "    net_pos.append(np.sum(w))\n",
    "    tot_pos.append(np.sum(np.abs(w)))\n",
    "    beta.append(np.sum(w*betas))\n",
    "    vol.append(np.sqrt(w.T@cov@w))\n",
    "    prog.update(1)"
   ]
  },
  {
   "cell_type": "code",
   "execution_count": 6,
   "metadata": {},
   "outputs": [
    {
     "name": "stdout",
     "output_type": "stream",
     "text": [
      "2023-12-28 00:00:00\n"
     ]
    }
   ],
   "source": [
    "print(start_dates[i])"
   ]
  },
  {
   "cell_type": "code",
   "execution_count": 7,
   "metadata": {},
   "outputs": [
    {
     "data": {
      "text/plain": [
       "3483683408.717217"
      ]
     },
     "execution_count": 7,
     "metadata": {},
     "output_type": "execute_result"
    }
   ],
   "source": [
    "final_vals[-1]"
   ]
  },
  {
   "cell_type": "code",
   "execution_count": 8,
   "metadata": {},
   "outputs": [
    {
     "name": "stdout",
     "output_type": "stream",
     "text": [
      "-0.0011368459665162633\n",
      "4.015012798940933\n",
      "0.02299391657193567\n",
      "0.055028019416122786\n",
      "95569.52579854653\n",
      "72795.44269267685\n",
      "297807.9107467384\n",
      "98437.82944285724\n",
      "6525978.327537581\n"
     ]
    }
   ],
   "source": [
    "print(np.average(net_pos))\n",
    "print(np.average(tot_pos))\n",
    "print(np.average(beta))\n",
    "print(np.average(vol))\n",
    "print(np.average(t_costs))\n",
    "print(np.average(loan_cost))\n",
    "print(np.average(short_int))\n",
    "print(np.average(mm_int))\n",
    "print(np.average(daily_pnl))"
   ]
  },
  {
   "cell_type": "code",
   "execution_count": 9,
   "metadata": {},
   "outputs": [
    {
     "data": {
      "image/png": "[encoded data removed]",
      "text/plain": [
       "<Figure size 640x480 with 1 Axes>"
      ]
     },
     "metadata": {},
     "output_type": "display_data"
    }
   ],
   "source": [
    "import matplotlib.pyplot as plt\n",
    "\n",
    "plt.plot(final_vals)\n",
    "plt.show()"
   ]
  },
  {
   "cell_type": "code",
   "execution_count": 20,
   "metadata": {},
   "outputs": [],
   "source": [
    "out_data={'w_0s':pd.concat(w_0s,axis=1),\n",
    "          'w_1s':pd.concat(w_1s,axis=1),\n",
    "          'start_vals':start_vals,\n",
    "          'final_vals':final_vals,\n",
    "          't_costs':t_costs,\n",
    "          'loan_cost':loan_cost,\n",
    "          'short_int':short_int,\n",
    "          'mm_int':mm_int,\n",
    "          'daily_pnl':daily_pnl,\n",
    "          'net_pos':net_pos,\n",
    "          'tot_pos':tot_pos,\n",
    "          'beta':beta,\n",
    "          'vol':vol,\n",
    "          'start_dates':start_dates,\n",
    "          'end_dates':end_dates\n",
    "}"
   ]
  },
  {
   "cell_type": "code",
   "execution_count": null,
   "metadata": {},
   "outputs": [],
   "source": [
    "\"\"\"\n",
    "import pickle as pkl\n",
    "\n",
    "with open(\"data/Results/SAMPLE.pkl\", \"wb\") as f:\n",
    "    pkl.dump(out_data, f)\n",
    "\"\"\""
   ]
  },
  {
   "cell_type": "code",
   "execution_count": 22,
   "metadata": {},
   "outputs": [],
   "source": [
    "pd.concat(w_1s,axis=1).to_clipboard()"
   ]
  },
  {
   "cell_type": "code",
   "execution_count": null,
   "metadata": {},
   "outputs": [],
   "source": []
  }
 ],
 "metadata": {
  "kernelspec": {
   "display_name": "Python 3",
   "language": "python",
   "name": "python3"
  },
  "language_info": {
   "codemirror_mode": {
    "name": "ipython",
    "version": 3
   },
   "file_extension": ".py",
   "mimetype": "text/x-python",
   "name": "python",
   "nbconvert_exporter": "python",
   "pygments_lexer": "ipython3",
   "version": "3.11.5"
  }
 },
 "nbformat": 4,
 "nbformat_minor": 2
}
