{
 "cells": [
  {
   "cell_type": "code",
   "execution_count": 1,
   "metadata": {},
   "outputs": [],
   "source": [
    "from data import data_loader\n",
    "from all_coefs import all_coefs,load_coefs\n",
    "from coefs import weight_matrix\n",
    "from spread import spread_manager\n",
    "from revert import df_to_inv_mom,df_to_dict\n",
    "from pnl import pnl\n",
    "\n",
    "from scipy.optimize import minimize\n",
    "\n",
    "import pandas as pd\n",
    "import datetime as dt\n",
    "import numpy as np\n",
    "import tensorflow as tf\n",
    "\n",
    "import time"
   ]
  },
  {
   "cell_type": "code",
   "execution_count": 2,
   "metadata": {},
   "outputs": [],
   "source": [
    "data=data_loader('2024-01-01') #data_obj with all precomputes\n",
    "price_data=data.load_price()\n",
    "\n",
    "price_dict=df_to_dict(price_data) #Price Dictionary"
   ]
  },
  {
   "cell_type": "code",
   "execution_count": 3,
   "metadata": {},
   "outputs": [
    {
     "data": {
      "text/plain": [
       "\"\\n#CREATE COEF MATRIX\\ncoefs=all_coefs(data)\\ncoefs.run(t_stat=0.25,weight_imb=0.5,corr_thresh=0.85,weight_type='std')\\nprint(coefs.errors())\\ncoefs.coefs()\\ncoefs.dump_matrix('t025imb05corr085typestd.pkl')\\n\""
      ]
     },
     "execution_count": 3,
     "metadata": {},
     "output_type": "execute_result"
    }
   ],
   "source": [
    "\"\"\"\n",
    "#CREATE COEF MATRIX\n",
    "coefs=all_coefs(data)\n",
    "coefs.run(t_stat=0.25,weight_imb=0.5,corr_thresh=0.85,weight_type='std')\n",
    "print(coefs.errors())\n",
    "coefs.coefs()\n",
    "coefs.dump_matrix('t025imb05corr085typestd.pkl')\n",
    "\"\"\""
   ]
  },
  {
   "cell_type": "code",
   "execution_count": 4,
   "metadata": {},
   "outputs": [],
   "source": [
    "coef_matrix=load_coefs(data,'t025imb05corr085typeabs.pkl') #Load COEF MATRIX\n",
    "\n",
    "dates_used=data.all_dates()[data.all_dates()>=pd.Timestamp(dt.datetime(2021,12,31))] #ISOLATE DATES FOR BACKTEST"
   ]
  },
  {
   "cell_type": "code",
   "execution_count": 5,
   "metadata": {},
   "outputs": [],
   "source": [
    "spreads=spread_manager(price_data,coef_matrix)\n",
    "spreads.calc_costs()\n",
    "signals=spreads.raw_signal()\n",
    "\n",
    "z_score=spreads.new_z_score()\n",
    "rev=df_to_inv_mom(z_score)\n",
    "\n",
    "filterer=spreads.signal_z_score_filter()"
   ]
  },
  {
   "cell_type": "code",
   "execution_count": 6,
   "metadata": {},
   "outputs": [],
   "source": [
    "signal_dict=df_to_dict(signals)\n",
    "rev_dict=df_to_dict(rev)\n",
    "filter_dict=df_to_dict(filterer)"
   ]
  },
  {
   "cell_type": "code",
   "execution_count": 7,
   "metadata": {},
   "outputs": [],
   "source": [
    "#ALL VALUES THAT NEED DATES\n",
    "\n",
    "date_old=dates_used[0]\n",
    "date_new=dates_used[1]\n",
    "\n",
    "weight_data=weight_matrix(price_dict[date_old],coef_matrix)\n",
    "\n",
    "betas=data.load_data(date_old,dtype='beta')\n",
    "covs=data.load_data(date_old,dtype='cov')"
   ]
  },
  {
   "cell_type": "code",
   "execution_count": 8,
   "metadata": {},
   "outputs": [
    {
     "data": {
      "text/plain": [
       "Ticker\n",
       "FOX      0.0\n",
       "NOW      0.0\n",
       "AMCR     0.0\n",
       "JPM      0.0\n",
       "KO       0.0\n",
       "        ... \n",
       "CCI      0.0\n",
       "APTV     0.0\n",
       "LVS      0.0\n",
       "MOH      0.0\n",
       "CONST    0.0\n",
       "Name: 2021-12-31 00:00:00, Length: 498, dtype: float64"
      ]
     },
     "execution_count": 8,
     "metadata": {},
     "output_type": "execute_result"
    }
   ],
   "source": [
    "initial_weights=price_dict[dates_used[0]].copy()\n",
    "initial_weights.loc[:]=0\n",
    "initial_weights"
   ]
  },
  {
   "cell_type": "code",
   "execution_count": 109,
   "metadata": {},
   "outputs": [],
   "source": [
    "initial_value=100e6\n",
    "\n",
    "#Signal\n",
    "c_sig=signal_dict[date_old][filter_dict[date_old]]\n",
    "\n",
    "#Reversion Speed\n",
    "c_rev=rev_dict[date_old][filter_dict[date_old]]\n",
    "lam_1=0.1\n",
    "\n",
    "#Weight Matrix\n",
    "c_A=weight_data[filter_dict[date_old]].T\n",
    "\n",
    "#Initial Weights DIRECT INPUT\n",
    "c_w0=initial_weights.copy()\n",
    "c_w0.drop('CONST',inplace=True)\n",
    "lam_2=0.2\n",
    "\n",
    "#COV Matrix\n",
    "c_cov=data.load_data(date_old,dtype='cov')\n",
    "lam_3=0.3\n",
    "\n",
    "#Betas\n",
    "c_beta=data.load_data(date_old,dtype='beta')\n",
    "\n",
    "theta_1=0.2 #Cash Neutrality\n",
    "theta_2=0.2 #Beta Neutrality\n",
    "theta_3=0.5 #Max Total Capital to All Trades\n",
    "theta_4=0.01 #Max Cap per Trade\n"
   ]
  },
  {
   "cell_type": "code",
   "execution_count": 10,
   "metadata": {},
   "outputs": [],
   "source": [
    "#INITIALIZE TRADES (RANDOM INPUT)\n",
    "t_init=np.random.normal(size=sum(filter_dict[date_old]))\n",
    "t_init=t_init/(2.5*np.sum(np.abs(t_init)))"
   ]
  },
  {
   "cell_type": "code",
   "execution_count": 11,
   "metadata": {},
   "outputs": [],
   "source": [
    "t=t_init #TRANSLATION FOR OBJECTIVE FUNCTION"
   ]
  },
  {
   "cell_type": "code",
   "execution_count": null,
   "metadata": {},
   "outputs": [],
   "source": []
  },
  {
   "cell_type": "code",
   "execution_count": 61,
   "metadata": {},
   "outputs": [
    {
     "name": "stdout",
     "output_type": "stream",
     "text": [
      "-0.00036502333747282976\n",
      "5.2769105665952803e-05\n",
      "0.037701968154873144\n",
      "9.303852121787058e-07\n"
     ]
    }
   ],
   "source": [
    "#Term 1 (MAX RETURN)\n",
    "print(t_init@c_sig)\n",
    "#Term 2 (MAX REV)\n",
    "print(lam_1*(t_init@c_rev))\n",
    "#Term 3 (TRANSACTION COSTS)\n",
    "print(lam_2*sum(abs((c_A@t_init)-c_w0)))\n",
    "#Term 4 (Volatility)\n",
    "print(lam_3*((c_A@t_init).T@c_cov@(c_A@t_init)))"
   ]
  },
  {
   "cell_type": "code",
   "execution_count": 72,
   "metadata": {},
   "outputs": [
    {
     "data": {
      "text/plain": [
       "3.101284040595686e-06"
      ]
     },
     "execution_count": 72,
     "metadata": {},
     "output_type": "execute_result"
    }
   ],
   "source": [
    "((c_A@t_init).T@c_cov@(c_A@t_init))"
   ]
  },
  {
   "cell_type": "code",
   "execution_count": 132,
   "metadata": {},
   "outputs": [],
   "source": [
    "t = tf.Variable(t_init, dtype=np.float64)\n",
    "def obj_func(t):\n",
    "    ret = tf.reduce_sum(t * c_sig)\n",
    "    rev = lam_1 * tf.reduce_sum(t * c_rev)\n",
    "    c_w=tf.matmul(c_A,tf.expand_dims(t, axis=1))\n",
    "    tcosts = lam_2 *tf.reduce_sum(tf.abs(c_w-tf.expand_dims(c_w0,axis=1)))\n",
    "    vol=lam_3*tf.reduce_sum(tf.matmul(tf.matmul(c_w,c_cov,transpose_a=True),c_w))\n",
    "    return -(ret + rev - tcosts - vol)"
   ]
  },
  {
   "cell_type": "code",
   "execution_count": 128,
   "metadata": {},
   "outputs": [],
   "source": [
    "def compute_gradients(t):\n",
    "    with tf.GradientTape() as tape:\n",
    "        loss = obj_func(t)\n",
    "    return tape.gradient(loss, t)"
   ]
  },
  {
   "cell_type": "code",
   "execution_count": 134,
   "metadata": {},
   "outputs": [
    {
     "name": "stdout",
     "output_type": "stream",
     "text": [
      "Epoch 0, Objective value: -0.9304960939395481\n",
      "Epoch 10, Objective value: -1.2062444198387015\n",
      "Epoch 20, Objective value: -1.2679602956778249\n",
      "Epoch 30, Objective value: -1.2930044719338878\n",
      "Epoch 40, Objective value: -1.3089965422814651\n",
      "Epoch 50, Objective value: -1.3133206529961698\n",
      "Epoch 60, Objective value: -1.3300882039041746\n",
      "Epoch 70, Objective value: -1.3393339702537261\n",
      "Epoch 80, Objective value: -1.3455036799675457\n",
      "Epoch 90, Objective value: -1.3504263069219276\n",
      "Epoch 100, Objective value: -1.3635356204844866\n",
      "Epoch 110, Objective value: -1.3686326317958915\n",
      "Epoch 120, Objective value: -1.3761389901748156\n",
      "Epoch 130, Objective value: -1.3768341891163745\n",
      "Epoch 140, Objective value: -1.3901542661835558\n",
      "Epoch 150, Objective value: -1.3930511824861558\n",
      "Epoch 160, Objective value: -1.397720693858103\n",
      "Epoch 170, Objective value: -1.4037396593078681\n",
      "Epoch 180, Objective value: -1.4108399931904705\n",
      "Epoch 190, Objective value: -1.424721071625565\n",
      "Epoch 200, Objective value: -1.4343570015714926\n",
      "Epoch 210, Objective value: -1.4324095895637539\n",
      "Epoch 220, Objective value: -1.4440029834641308\n",
      "Epoch 230, Objective value: -1.445180630946277\n",
      "Epoch 240, Objective value: -1.4541207376845355\n",
      "Epoch 250, Objective value: -1.4551736520643364\n",
      "Epoch 260, Objective value: -1.4640545370591063\n",
      "Epoch 270, Objective value: -1.4761137959628068\n",
      "Epoch 280, Objective value: -1.47052906575472\n",
      "Epoch 290, Objective value: -1.4763217592154791\n",
      "Epoch 300, Objective value: -1.4832573896396928\n",
      "Epoch 310, Objective value: -1.4889695708753583\n",
      "Epoch 320, Objective value: -1.4981039615075473\n",
      "Epoch 330, Objective value: -1.5012862391912005\n",
      "Epoch 340, Objective value: -1.5065315223514675\n",
      "Epoch 350, Objective value: -1.512000406986164\n",
      "Epoch 360, Objective value: -1.5136155231954536\n",
      "Epoch 370, Objective value: -1.5233475629658426\n",
      "Epoch 380, Objective value: -1.5288531289904108\n",
      "Epoch 390, Objective value: -1.5242861747293885\n",
      "Epoch 400, Objective value: -1.534119577175135\n",
      "Epoch 410, Objective value: -1.5462247972604823\n",
      "Epoch 420, Objective value: -1.553737360529883\n",
      "Epoch 430, Objective value: -1.558014559765869\n",
      "Epoch 440, Objective value: -1.5549605748089608\n",
      "Epoch 450, Objective value: -1.559042980493269\n",
      "Epoch 460, Objective value: -1.5661620780317342\n",
      "Epoch 470, Objective value: -1.5734795612938486\n",
      "Epoch 480, Objective value: -1.575698219118802\n",
      "Epoch 490, Objective value: -1.570979663446812\n",
      "Epoch 500, Objective value: -1.5869135922841728\n",
      "Epoch 510, Objective value: -1.5823740724765578\n",
      "Epoch 520, Objective value: -1.5977208697083305\n",
      "Epoch 530, Objective value: -1.5956718574612407\n",
      "Epoch 540, Objective value: -1.5974939377132356\n",
      "Epoch 550, Objective value: -1.6087016729477877\n",
      "Epoch 560, Objective value: -1.6163437237487654\n",
      "Epoch 570, Objective value: -1.6177685177266898\n",
      "Epoch 580, Objective value: -1.6197180878047448\n",
      "Epoch 590, Objective value: -1.6238273354338704\n",
      "Epoch 600, Objective value: -1.6175313233539266\n",
      "Epoch 610, Objective value: -1.6314540589531497\n",
      "Epoch 620, Objective value: -1.6301412327661327\n",
      "Epoch 630, Objective value: -1.6368394947292073\n",
      "Epoch 640, Objective value: -1.6451663028980643\n",
      "Epoch 650, Objective value: -1.6483023325797237\n",
      "Epoch 660, Objective value: -1.6529825899428894\n",
      "Epoch 670, Objective value: -1.652422370050137\n",
      "Epoch 680, Objective value: -1.6558883933191089\n",
      "Epoch 690, Objective value: -1.6646918510321345\n",
      "Epoch 700, Objective value: -1.668900727942883\n",
      "Epoch 710, Objective value: -1.6662555698292705\n",
      "Epoch 720, Objective value: -1.6747062317496153\n",
      "Epoch 730, Objective value: -1.678069254701647\n",
      "Epoch 740, Objective value: -1.6792811298021388\n",
      "Epoch 750, Objective value: -1.6827835489432097\n",
      "Epoch 760, Objective value: -1.6825029920475383\n",
      "Epoch 770, Objective value: -1.6899023256240817\n",
      "Epoch 780, Objective value: -1.688427660609306\n",
      "Epoch 790, Objective value: -1.6952635912446028\n",
      "Epoch 800, Objective value: -1.701306690418508\n",
      "Epoch 810, Objective value: -1.7010074410755025\n",
      "Epoch 820, Objective value: -1.7071043238395245\n",
      "Epoch 830, Objective value: -1.7012241381411646\n",
      "Epoch 840, Objective value: -1.7091674115650533\n",
      "Epoch 850, Objective value: -1.7129680233898774\n",
      "Epoch 860, Objective value: -1.7193057702090129\n",
      "Epoch 870, Objective value: -1.7168946018874733\n",
      "Epoch 880, Objective value: -1.725019093789268\n",
      "Epoch 890, Objective value: -1.723463938603152\n",
      "Epoch 900, Objective value: -1.7279205294779743\n",
      "Epoch 910, Objective value: -1.736781030085653\n",
      "Epoch 920, Objective value: -1.7383168882128102\n",
      "Epoch 930, Objective value: -1.7393462488932718\n",
      "Epoch 940, Objective value: -1.7413819386262352\n",
      "Epoch 950, Objective value: -1.7380510969459682\n",
      "Epoch 960, Objective value: -1.7485303815586843\n",
      "Epoch 970, Objective value: -1.7455758681979539\n",
      "Epoch 980, Objective value: -1.7527883558800827\n",
      "Epoch 990, Objective value: -1.7555253024179462\n",
      "Optimized parameters: [-1.61305581e-05  1.84714918e-04  3.29540669e-04 ... -1.00000000e-02\n",
      "  1.00000000e-02 -1.31419286e-03]\n"
     ]
    }
   ],
   "source": [
    "optimizer = tf.optimizers.Adam(0.0001)\n",
    "\n",
    "n_epochs = 1000\n",
    "for epoch in range(n_epochs):\n",
    "    grads = compute_gradients(t)\n",
    "    optimizer.apply_gradients(zip([grads], [t]))\n",
    "    t.assign(tf.clip_by_value(t, -theta_4, theta_4))\n",
    "    if epoch % 10 == 0:\n",
    "        print(f\"Epoch {epoch}, Objective value: {obj_func(t).numpy()}\")\n",
    "\n",
    "# Final optimized parameters\n",
    "print(\"Optimized parameters:\", t.numpy())"
   ]
  },
  {
   "cell_type": "code",
   "execution_count": 130,
   "metadata": {},
   "outputs": [
    {
     "data": {
      "text/plain": [
       "Automobiles & Components 1    0.106104\n",
       "Banks 1                      -0.006668\n",
       "Banks 2                       0.033130\n",
       "Banks 3                       0.052938\n",
       "Banks 4                       0.048104\n",
       "                                ...   \n",
       "Utilities 1319               -0.041928\n",
       "Utilities 1320               -0.083635\n",
       "Utilities 1321               -0.140086\n",
       "Utilities 1322               -0.056594\n",
       "Utilities 1323               -0.111543\n",
       "Name: 2021-12-31 00:00:00, Length: 12752, dtype: float64"
      ]
     },
     "execution_count": 130,
     "metadata": {},
     "output_type": "execute_result"
    }
   ],
   "source": [
    "c_sig"
   ]
  },
  {
   "cell_type": "code",
   "execution_count": 77,
   "metadata": {},
   "outputs": [],
   "source": [
    "#TENSORFLOW EQUIVALENTS\n",
    "ret = tf.reduce_sum(t * c_sig)\n",
    "rev = lam_1 * tf.reduce_sum(t * c_rev)\n",
    "c_w=tf.matmul(c_A,tf.expand_dims(t, axis=1))\n",
    "tcosts = lam_2 *tf.reduce_sum(tf.abs(c_w-tf.expand_dims(c_w0,axis=1)))\n",
    "vol=lam_3*tf.matmul(tf.matmul(c_w,c_cov,transpose_a=True),c_w)"
   ]
  },
  {
   "cell_type": "code",
   "execution_count": null,
   "metadata": {},
   "outputs": [],
   "source": [
    "# Add penalty term for violating the constraints\n",
    "def penalty(t):\n",
    "    penalty = 0\n",
    "    if np.abs(np.dot(c_A, t) @ np.ones(c_beta.shape)) > theta_1:\n",
    "        penalty += 1e6 * np.abs(np.dot(c_A, t) @ np.ones(c_beta.shape) - theta_1)\n",
    "    if np.abs(np.dot(c_A, t) @ c_beta) > theta_2:\n",
    "        penalty += 1e6 * np.abs(np.dot(c_A, t) @ c_beta - theta_2)\n",
    "    if np.abs(t) @ np.ones(t.shape) > theta_3:\n",
    "        penalty += 1e6 * np.abs(np.abs(t) @ np.ones(t.shape) - theta_3)\n",
    "    return penalty\n",
    "\n",
    "# Update objective function with penalty\n",
    "def obj_func_with_penalty(t):\n",
    "    return obj_func(t) + penalty(t)\n",
    "\n",
    "#NEED TO CREATE PENALTY FUNCTION IN TF"
   ]
  },
  {
   "cell_type": "code",
   "execution_count": 205,
   "metadata": {},
   "outputs": [],
   "source": [
    "def obj_func(t):\n",
    "    ret=(t@c_sig)\n",
    "    rev=(lam_1*(t@c_rev))\n",
    "    tcosts=(lam_2*sum(abs((c_A@t)-c_w0)))\n",
    "    vol=(lam_3*((c_A@t).T@c_cov@(c_A@t)))\n",
    "    return -(ret+rev-tcosts-vol)\n",
    "\n",
    "theta_1=0.2 #Cash Neutrality\n",
    "theta_2=0.2 #Beta Neutrality\n",
    "theta_3=0.5 #Max Total Capital to All Trades\n",
    "theta_4=0.01 #Max Cap per Trade\n",
    "\n",
    "constraints = (\n",
    "    {'type': 'ineq', 'fun': lambda t: theta_1 - abs((c_A@t)@np.ones(c_beta.shape))},  #partial cash neutrality\n",
    "    {'type': 'ineq', 'fun': lambda t: theta_2 - abs((c_A@t)@c_beta)}, #partial beta neutrality\n",
    "    {'type': 'ineq', 'fun': lambda t: theta_3 - abs(t)@np.ones(t.shape)} #max total cap to trades\n",
    ")\n",
    "\n",
    "bounds = [(-theta_4, theta_4)]*c_A.shape[1]"
   ]
  },
  {
   "cell_type": "code",
   "execution_count": 156,
   "metadata": {},
   "outputs": [
    {
     "name": "stdout",
     "output_type": "stream",
     "text": [
      "0.00015527767124676693 0.001072796106645875\n"
     ]
    }
   ],
   "source": [
    "cash_neutrality=abs((c_A@t)@np.ones(c_beta.shape))\n",
    "beta_neutrality=abs((c_A@t)@c_beta)\n",
    "print(cash_neutrality,beta_neutrality)"
   ]
  },
  {
   "cell_type": "code",
   "execution_count": 163,
   "metadata": {},
   "outputs": [
    {
     "data": {
      "text/plain": [
       "(497, 41826)"
      ]
     },
     "execution_count": 163,
     "metadata": {},
     "output_type": "execute_result"
    }
   ],
   "source": [
    "c_A.shape"
   ]
  },
  {
   "cell_type": "code",
   "execution_count": 158,
   "metadata": {},
   "outputs": [
    {
     "data": {
      "text/plain": [
       "0.40000000000000047"
      ]
     },
     "execution_count": 158,
     "metadata": {},
     "output_type": "execute_result"
    }
   ],
   "source": [
    "abs(t)@np.ones(t.shape)"
   ]
  },
  {
   "cell_type": "code",
   "execution_count": null,
   "metadata": {},
   "outputs": [],
   "source": [
    "class optimizer:\n",
    "    def __init__(self,data_obj,signal_dict,rev_dict,price_dict,filter_dict,coef_matrix):\n",
    "        self.data=data_obj\n",
    "        self.signal_dict=signal_dict\n",
    "        self.rev_dict=rev_dict\n",
    "        self.price_dict=price_dict\n",
    "        self.filter_dict=filter_dict\n",
    "        self.pnl=pnl(data_obj)\n",
    "        self.coef_matrix=coef_matrix\n",
    "    def optimize(self,port_val,c_w0,date_old,lam_1,lam_2,lam_3,theta_1,theta_2,theta_3):\n",
    "        #Load all variables\n",
    "        t_init=np.random.normal(size=sum(self.filter_dict[date_old]))\n",
    "        t_init=t_init/(2.5*np.sum(np.abs(t_init)))\n",
    "        c_sig=self.signal_dict[date_old][self.filter_dict[date_old]]\n",
    "        c_rev=self.rev_dict[date_old][self.filter_dict[date_old]]\n",
    "        c_A=weight_matrix(self.price_dict[date_old],self.coef_matrix).T\n",
    "        c_cov=self.data.load_data(date_old,dtype='cov')\n",
    "        c_beta=self.data.load_data(date_old,dtype='beta')\n",
    "        \n",
    "        def obj_func(t):\n",
    "            #Maximize by minimize the negative\n",
    "            ret=(t@c_sig)\n",
    "            rev=(lam_1*(t@c_rev))\n",
    "            tcosts=(lam_2*sum(abs((c_A@t)-c_w0)))\n",
    "            vol=(lam_3*((c_A@t).T@c_cov@(c_A@t)))\n",
    "            return -(ret+rev-tcosts-vol)\n",
    "        \n",
    "        constraints = (\n",
    "            {'type': 'ineq', 'fun': lambda t: theta_1 - abs((c_A@t)@np.ones(c_beta.shape))},  #partial cash neutrality\n",
    "            {'type': 'ineq', 'fun': lambda t: theta_2 - abs((c_A@t)@c_beta)}, #partial beta neutrality\n",
    "            {'type': 'ineq', 'fun': lambda t: theta_3 - abs(t)@np.ones(t.shape)} #max total cap to trades\n",
    "        )\n",
    "\n",
    "        bounds = [(-theta_4, theta_4)]*c_A.shape[1]\n",
    "        \n",
    "        \n"
   ]
  },
  {
   "cell_type": "code",
   "execution_count": 118,
   "metadata": {},
   "outputs": [
    {
     "name": "stdout",
     "output_type": "stream",
     "text": [
      "(497,)\n",
      "(497, 497)\n"
     ]
    }
   ],
   "source": [
    "print((c_A@t).T.shape)\n",
    "print(c_cov.shape)"
   ]
  },
  {
   "cell_type": "code",
   "execution_count": 120,
   "metadata": {},
   "outputs": [
    {
     "data": {
      "text/plain": [
       "3.234473486516852e-07"
      ]
     },
     "execution_count": 120,
     "metadata": {},
     "output_type": "execute_result"
    }
   ],
   "source": [
    "(c_A@t).T@c_cov@(c_A@t)"
   ]
  },
  {
   "cell_type": "code",
   "execution_count": 48,
   "metadata": {},
   "outputs": [
    {
     "name": "stdout",
     "output_type": "stream",
     "text": [
      "Optimized array: [-1.27600518e-08 -8.68161543e-09 -3.55077334e-09]\n",
      "Objective function value: 2.507973609166287e-16\n"
     ]
    }
   ],
   "source": [
    "import numpy as np\n",
    "from scipy.optimize import minimize\n",
    "\n",
    "# Define an objective function that takes a numpy array as input\n",
    "def objective_function(x):\n",
    "    # x is a numpy array; for example, let's minimize the sum of squares\n",
    "    return np.sum(x**2)\n",
    "\n",
    "# Initial guess for the numpy array\n",
    "initial_guess = np.array([1.0, 2.0, 3.0])\n",
    "\n",
    "# Call minimize with the objective function and initial guess\n",
    "result = minimize(objective_function, initial_guess)\n",
    "\n",
    "# Print the results\n",
    "print(\"Optimized array:\", result.x)\n",
    "print(\"Objective function value:\", result.fun)\n"
   ]
  }
 ],
 "metadata": {
  "kernelspec": {
   "display_name": "Python 3",
   "language": "python",
   "name": "python3"
  },
  "language_info": {
   "codemirror_mode": {
    "name": "ipython",
    "version": 3
   },
   "file_extension": ".py",
   "mimetype": "text/x-python",
   "name": "python",
   "nbconvert_exporter": "python",
   "pygments_lexer": "ipython3",
   "version": "3.11.5"
  }
 },
 "nbformat": 4,
 "nbformat_minor": 2
}
