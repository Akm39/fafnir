{
 "cells": [
  {
   "cell_type": "code",
   "execution_count": 1,
   "metadata": {},
   "outputs": [],
   "source": [
    "from data import data_loader\n",
    "from all_coefs import all_coefs,load_coefs\n",
    "from coefs import weight_matrix\n",
    "from spread import spread_manager\n",
    "from revert import df_to_inv_mom,df_to_dict\n",
    "from pnl import pnl\n",
    "from pnl import pnl as pnl_engine\n",
    "from scipy.optimize import minimize\n",
    "\n",
    "import pandas as pd\n",
    "import datetime as dt\n",
    "import numpy as np\n",
    "import tensorflow as tf\n",
    "\n",
    "import time"
   ]
  },
  {
   "cell_type": "code",
   "execution_count": 2,
   "metadata": {},
   "outputs": [],
   "source": [
    "data=data_loader('2024-01-01') #data_obj with all precomputes\n",
    "price_data=data.load_price()\n",
    "\n",
    "price_dict=df_to_dict(price_data) #Price Dictionary"
   ]
  },
  {
   "cell_type": "code",
   "execution_count": 3,
   "metadata": {},
   "outputs": [
    {
     "data": {
      "text/plain": [
       "\"\\n#CREATE COEF MATRIX\\ncoefs=all_coefs(data)\\ncoefs.run(t_stat=0.25,weight_imb=0.5,corr_thresh=0.85,weight_type='std')\\nprint(coefs.errors())\\ncoefs.coefs()\\ncoefs.dump_matrix('t025imb05corr085typestd.pkl')\\n\""
      ]
     },
     "execution_count": 3,
     "metadata": {},
     "output_type": "execute_result"
    }
   ],
   "source": [
    "\"\"\"\n",
    "#CREATE COEF MATRIX\n",
    "coefs=all_coefs(data)\n",
    "coefs.run(t_stat=0.25,weight_imb=0.5,corr_thresh=0.85,weight_type='std')\n",
    "print(coefs.errors())\n",
    "coefs.coefs()\n",
    "coefs.dump_matrix('t025imb05corr085typestd.pkl')\n",
    "\"\"\""
   ]
  },
  {
   "cell_type": "code",
   "execution_count": 4,
   "metadata": {},
   "outputs": [],
   "source": [
    "coef_matrix=load_coefs(data,'t025imb05corr085typeabs.pkl') #Load COEF MATRIX\n",
    "\n",
    "dates_used=data.all_dates()[data.all_dates()>=pd.Timestamp(dt.datetime(2021,12,31))] #ISOLATE DATES FOR BACKTEST"
   ]
  },
  {
   "cell_type": "code",
   "execution_count": 5,
   "metadata": {},
   "outputs": [],
   "source": [
    "spreads=spread_manager(price_data,coef_matrix)\n",
    "spreads.calc_costs()\n",
    "signals=spreads.raw_signal()\n",
    "\n",
    "z_score=spreads.new_z_score()\n",
    "rev=df_to_inv_mom(z_score)\n",
    "\n",
    "filterer=spreads.signal_z_score_filter()"
   ]
  },
  {
   "cell_type": "code",
   "execution_count": 6,
   "metadata": {},
   "outputs": [],
   "source": [
    "signal_dict=df_to_dict(signals)\n",
    "rev_dict=df_to_dict(rev)\n",
    "filter_dict=df_to_dict(filterer)"
   ]
  },
  {
   "cell_type": "code",
   "execution_count": 7,
   "metadata": {},
   "outputs": [],
   "source": [
    "#ALL VALUES THAT NEED DATES\n",
    "\n",
    "date_old=dates_used[0]\n",
    "date_new=dates_used[1]\n",
    "\n",
    "weight_data=weight_matrix(price_dict[date_old],coef_matrix)\n",
    "\n",
    "betas=data.load_data(date_old,dtype='beta')\n",
    "covs=data.load_data(date_old,dtype='cov')"
   ]
  },
  {
   "cell_type": "code",
   "execution_count": 8,
   "metadata": {},
   "outputs": [
    {
     "data": {
      "text/plain": [
       "Ticker\n",
       "FOX      0.0\n",
       "NOW      0.0\n",
       "AMCR     0.0\n",
       "JPM      0.0\n",
       "KO       0.0\n",
       "        ... \n",
       "CCI      0.0\n",
       "APTV     0.0\n",
       "LVS      0.0\n",
       "MOH      0.0\n",
       "CONST    0.0\n",
       "Name: 2021-12-31 00:00:00, Length: 498, dtype: float64"
      ]
     },
     "execution_count": 8,
     "metadata": {},
     "output_type": "execute_result"
    }
   ],
   "source": [
    "initial_weights=price_dict[dates_used[0]].copy()\n",
    "initial_weights.loc[:]=0\n",
    "initial_weights"
   ]
  },
  {
   "cell_type": "code",
   "execution_count": 9,
   "metadata": {},
   "outputs": [],
   "source": [
    "initial_value=100e6\n",
    "\n",
    "#Signal\n",
    "c_sig=signal_dict[date_old][filter_dict[date_old]]\n",
    "\n",
    "#Reversion Speed\n",
    "c_rev=rev_dict[date_old][filter_dict[date_old]]\n",
    "lam_1=0\n",
    "\n",
    "#Weight Matrix\n",
    "c_A=weight_data[filter_dict[date_old]].T\n",
    "\n",
    "#Initial Weights DIRECT INPUT\n",
    "c_w0=initial_weights.copy()\n",
    "c_w0.drop('CONST',inplace=True)\n",
    "lam_2=0\n",
    "\n",
    "#COV Matrix\n",
    "c_cov=data.load_data(date_old,dtype='cov')\n",
    "lam_3=1\n",
    "\n",
    "#Betas\n",
    "c_beta=data.load_data(date_old,dtype='beta')\n",
    "\n",
    "theta_1=0.2 #Cash Neutrality\n",
    "theta_2=0.2 #Beta Neutrality\n",
    "theta_3=3.8 #Lower Bound Target Total Capital Deployed\n",
    "theta_4=4.2 #Upper Bound Target Total Capital Deployed\n"
   ]
  },
  {
   "cell_type": "code",
   "execution_count": 10,
   "metadata": {},
   "outputs": [],
   "source": [
    "#INITIALIZE TRADES (RANDOM INPUT)\n",
    "t_init=np.random.normal(size=sum(filter_dict[date_old]))\n",
    "t_init=t_init/(2.5*np.sum(np.abs(t_init)))"
   ]
  },
  {
   "cell_type": "code",
   "execution_count": 11,
   "metadata": {},
   "outputs": [],
   "source": [
    "t=t_init #TRANSLATION FOR OBJECTIVE FUNCTION"
   ]
  },
  {
   "cell_type": "code",
   "execution_count": 12,
   "metadata": {},
   "outputs": [],
   "source": [
    "t=4*-np.ones(t.shape)/t.shape[0]"
   ]
  },
  {
   "cell_type": "code",
   "execution_count": 13,
   "metadata": {},
   "outputs": [
    {
     "name": "stdout",
     "output_type": "stream",
     "text": [
      "-0.10020793787975771\n",
      "0.0\n",
      "0.0\n",
      "0.012645747549458396\n"
     ]
    }
   ],
   "source": [
    "#Term 1 (MAX RETURN)\n",
    "print(t@c_sig)\n",
    "#Term 2 (MAX REV)\n",
    "print(lam_1*(t@c_rev))\n",
    "#Term 3 (TRANSACTION COSTS)\n",
    "print(lam_2*sum(abs((c_A@t)-c_w0)))\n",
    "#Term 4 (Volatility)\n",
    "print(lam_3*((c_A@t).T@c_cov@(c_A@t)))"
   ]
  },
  {
   "cell_type": "code",
   "execution_count": 14,
   "metadata": {},
   "outputs": [],
   "source": [
    "t = tf.Variable(np.zeros(c_sig.shape[0]), dtype=np.float64)"
   ]
  },
  {
   "cell_type": "code",
   "execution_count": null,
   "metadata": {},
   "outputs": [],
   "source": []
  },
  {
   "cell_type": "code",
   "execution_count": 15,
   "metadata": {},
   "outputs": [],
   "source": [
    "\n",
    "def obj_func(t):\n",
    "    #OPTIMIZATION\n",
    "    ret = tf.reduce_sum(t * c_sig)\n",
    "    rev = tf.reduce_sum(t * c_rev)\n",
    "    c_w=tf.matmul(c_A,tf.expand_dims(t, axis=1))\n",
    "    tcosts = tf.reduce_sum(tf.abs(c_w-tf.expand_dims(c_w0,axis=1)))\n",
    "    vol=tf.reduce_sum(tf.matmul(tf.matmul(c_w,c_cov,transpose_a=True),c_w))\n",
    "\n",
    "    #PENALTIES\n",
    "    calc_cash=tf.abs(tf.reduce_sum(tf.matmul(tf.expand_dims(np.ones(c_beta.shape), axis=1),c_w,transpose_a=True)))\n",
    "    cash_penalty=(tf.maximum(theta_1,calc_cash)-theta_1)\n",
    "\n",
    "    calc_beta=tf.abs(tf.reduce_sum(tf.matmul(tf.expand_dims(c_beta, axis=1),c_w,transpose_a=True)))\n",
    "    beta_penalty=(tf.maximum(theta_2,calc_beta)-theta_2)\n",
    "\n",
    "    total_weight=tf.reduce_sum(tf.matmul(tf.abs(c_w),np.ones(c_w.shape),transpose_a=True))\n",
    "    weight_penalty=(tf.maximum(total_weight,theta_4)-theta_4)+(theta_3-tf.minimum(total_weight,theta_3))\n",
    "    #print(ret,rev,tcosts,vol)\n",
    "    #print(cash_penalty,beta_penalty,weight_penalty)\n",
    "    return (-(10*ret + lam_1*rev - lam_2*tcosts - 10*lam_3*vol))+(1e6*(cash_penalty+beta_penalty+weight_penalty))\n",
    "\n",
    "\n",
    "def obj_func_print(t):\n",
    "    #OPTIMIZATION\n",
    "    ret = tf.reduce_sum(t * c_sig)\n",
    "    rev = tf.reduce_sum(t * c_rev)\n",
    "    c_w=tf.matmul(c_A,tf.expand_dims(t, axis=1))\n",
    "    tcosts = tf.reduce_sum(tf.abs(c_w-tf.expand_dims(c_w0,axis=1)))\n",
    "    vol=tf.reduce_sum(tf.matmul(tf.matmul(c_w,c_cov,transpose_a=True),c_w))\n",
    "\n",
    "    #PENALTIES\n",
    "    calc_cash=tf.abs(tf.reduce_sum(tf.matmul(tf.expand_dims(np.ones(c_beta.shape), axis=1),c_w,transpose_a=True)))\n",
    "    cash_penalty=(tf.maximum(theta_1,calc_cash)-theta_1)\n",
    "\n",
    "    calc_beta=tf.abs(tf.reduce_sum(tf.matmul(tf.expand_dims(c_beta, axis=1),c_w,transpose_a=True)))\n",
    "    beta_penalty=(tf.maximum(theta_2,calc_beta)-theta_2)\n",
    "\n",
    "    total_weight=tf.reduce_sum(tf.matmul(tf.abs(c_w),np.ones(c_w.shape),transpose_a=True))\n",
    "    weight_penalty=(tf.maximum(total_weight,theta_4)-theta_4)+(theta_3-tf.minimum(total_weight,theta_3))\n",
    "    print(ret,rev,tcosts,vol)\n",
    "    print(cash_penalty,beta_penalty,weight_penalty)\n",
    "    return (-(10*ret + lam_1*rev - lam_2*tcosts - lam_3*vol))+(1e6*(cash_penalty+beta_penalty+weight_penalty))"
   ]
  },
  {
   "cell_type": "code",
   "execution_count": 16,
   "metadata": {},
   "outputs": [],
   "source": [
    "def compute_gradients(t):\n",
    "    with tf.GradientTape() as tape:\n",
    "        loss = obj_func(t)\n",
    "    return tape.gradient(loss, t)"
   ]
  },
  {
   "cell_type": "code",
   "execution_count": 17,
   "metadata": {},
   "outputs": [
    {
     "data": {
      "text/plain": [
       "'\\ninitial_learning_rate = 1e-5\\nlr_schedule = tf.keras.optimizers.schedules.ExponentialDecay(\\n    initial_learning_rate,\\n    decay_steps=50,\\n    decay_rate=0.8,\\n    staircase=True\\n)\\noptimizer = tf.optimizers.Adam(learning_rate=lr_schedule)\\n\\nn_epochs = 1000\\nfor epoch in range(n_epochs):\\n    grads = compute_gradients(t)\\n    optimizer.apply_gradients(zip([grads], [t]))\\n    if epoch % 10 == 0:\\n        print(f\"Epoch {epoch}, Objective value: {obj_func(t).numpy()}\")\\n\\n# Final optimized parameters\\nprint(\"Optimized parameters:\", t.numpy())\\n'"
      ]
     },
     "execution_count": 17,
     "metadata": {},
     "output_type": "execute_result"
    }
   ],
   "source": [
    "\"\"\"\n",
    "initial_learning_rate = 1e-5\n",
    "lr_schedule = tf.keras.optimizers.schedules.ExponentialDecay(\n",
    "    initial_learning_rate,\n",
    "    decay_steps=50,\n",
    "    decay_rate=0.8,\n",
    "    staircase=True\n",
    ")\n",
    "optimizer = tf.optimizers.Adam(learning_rate=lr_schedule)\n",
    "\n",
    "n_epochs = 1000\n",
    "for epoch in range(n_epochs):\n",
    "    grads = compute_gradients(t)\n",
    "    optimizer.apply_gradients(zip([grads], [t]))\n",
    "    if epoch % 10 == 0:\n",
    "        print(f\"Epoch {epoch}, Objective value: {obj_func(t).numpy()}\")\n",
    "\n",
    "# Final optimized parameters\n",
    "print(\"Optimized parameters:\", t.numpy())\n",
    "\"\"\""
   ]
  },
  {
   "cell_type": "code",
   "execution_count": null,
   "metadata": {},
   "outputs": [],
   "source": []
  },
  {
   "cell_type": "code",
   "execution_count": 18,
   "metadata": {},
   "outputs": [
    {
     "name": "stdout",
     "output_type": "stream",
     "text": [
      "tf.Tensor(0.0, shape=(), dtype=float64) tf.Tensor(0.0, shape=(), dtype=float64) tf.Tensor(0.0, shape=(), dtype=float64) tf.Tensor(0.0, shape=(), dtype=float64)\n",
      "tf.Tensor(0.0, shape=(), dtype=float64) tf.Tensor(0.0, shape=(), dtype=float64) tf.Tensor(3.8, shape=(), dtype=float64)\n"
     ]
    },
    {
     "data": {
      "text/plain": [
       "<tf.Tensor: shape=(), dtype=float64, numpy=3800000.0>"
      ]
     },
     "execution_count": 18,
     "metadata": {},
     "output_type": "execute_result"
    }
   ],
   "source": [
    "obj_func_print(t)\n"
   ]
  },
  {
   "cell_type": "code",
   "execution_count": 19,
   "metadata": {},
   "outputs": [
    {
     "data": {
      "text/plain": [
       "0.05459739452188421"
      ]
     },
     "execution_count": 19,
     "metadata": {},
     "output_type": "execute_result"
    }
   ],
   "source": [
    "np.sqrt(0.002980875488578272)"
   ]
  },
  {
   "cell_type": "code",
   "execution_count": 20,
   "metadata": {},
   "outputs": [],
   "source": [
    "#TENSORFLOW EQUIVALENTS\n",
    "ret = tf.reduce_sum(t * c_sig)\n",
    "rev = lam_1 * tf.reduce_sum(t * c_rev)\n",
    "c_w=tf.matmul(c_A,tf.expand_dims(t, axis=1))\n",
    "tcosts = lam_2 *tf.reduce_sum(tf.abs(c_w-tf.expand_dims(c_w0,axis=1)))\n",
    "vol=lam_3*tf.reduce_sum(tf.matmul(tf.matmul(c_w,c_cov,transpose_a=True),c_w))"
   ]
  },
  {
   "cell_type": "code",
   "execution_count": 21,
   "metadata": {},
   "outputs": [],
   "source": [
    "#PENALTIES\n",
    "calc_cash=tf.abs(tf.reduce_sum(tf.matmul(tf.expand_dims(np.ones(c_beta.shape), axis=1),c_w,transpose_a=True)))\n",
    "cash_penalty=(tf.maximum(theta_1,calc_cash)-theta_1)\n",
    "\n",
    "calc_beta=tf.abs(tf.reduce_sum(tf.matmul(tf.expand_dims(c_beta, axis=1),c_w,transpose_a=True)))\n",
    "beta_penalty=(tf.maximum(theta_2,calc_beta)-theta_2)\n",
    "\n",
    "total_weight=tf.reduce_sum(tf.matmul(tf.abs(c_w),np.ones(c_w.shape),transpose_a=True))\n",
    "weight_penalty=(tf.maximum(total_weight,theta_4)-theta_4)+(theta_3-tf.minimum(total_weight,theta_3))"
   ]
  },
  {
   "cell_type": "code",
   "execution_count": 22,
   "metadata": {},
   "outputs": [],
   "source": [
    "def obj_func(t):\n",
    "    ret=(t@c_sig)\n",
    "    rev=(lam_1*(t@c_rev))\n",
    "    tcosts=(lam_2*sum(abs((c_A@t)-c_w0)))\n",
    "    vol=(lam_3*((c_A@t).T@c_cov@(c_A@t)))\n",
    "    return -(ret+rev-tcosts-vol)\n",
    "\n",
    "theta_1=0.2 #Cash Neutrality\n",
    "theta_2=0.2 #Beta Neutrality\n",
    "theta_3=0.5 #Max Total Capital to All Trades\n",
    "theta_4=0.01 #Max Cap per Trade\n",
    "\n",
    "constraints = (\n",
    "    {'type': 'ineq', 'fun': lambda t: theta_1 - abs((c_A@t)@np.ones(c_beta.shape))},  #partial cash neutrality\n",
    "    {'type': 'ineq', 'fun': lambda t: theta_2 - abs((c_A@t)@c_beta)}, #partial beta neutrality\n",
    "    {'type': 'ineq', 'fun': lambda t: theta_3 - abs(t)@np.ones(t.shape)} #max total cap to trades\n",
    ")\n",
    "\n",
    "bounds = [(-theta_4, theta_4)]*c_A.shape[1]"
   ]
  },
  {
   "cell_type": "code",
   "execution_count": 23,
   "metadata": {},
   "outputs": [
    {
     "name": "stdout",
     "output_type": "stream",
     "text": [
      "0.0 0.0\n"
     ]
    }
   ],
   "source": [
    "cash_neutrality=abs((c_A@t)@np.ones(c_beta.shape))\n",
    "beta_neutrality=abs((c_A@t)@c_beta)\n",
    "print(cash_neutrality,beta_neutrality)"
   ]
  },
  {
   "cell_type": "code",
   "execution_count": 24,
   "metadata": {},
   "outputs": [
    {
     "data": {
      "text/plain": [
       "(497, 12752)"
      ]
     },
     "execution_count": 24,
     "metadata": {},
     "output_type": "execute_result"
    }
   ],
   "source": [
    "c_A.shape"
   ]
  },
  {
   "cell_type": "code",
   "execution_count": null,
   "metadata": {},
   "outputs": [],
   "source": [
    "class optimizer:\n",
    "    def __init__(self,data_obj,signal_dict,rev_dict,price_dict,filter_dict,coef_matrix):\n",
    "        self.data=data_obj\n",
    "        self.signal_dict=signal_dict\n",
    "        self.rev_dict=rev_dict\n",
    "        self.price_dict=price_dict\n",
    "        self.filter_dict=filter_dict\n",
    "        self.pnl=pnl(data_obj)\n",
    "        self.coef_matrix=coef_matrix\n",
    "\n",
    "    def optimize(self,c_w0,date_old,\n",
    "                 lam_1, #Mean Reversion\n",
    "                 lam_2, #Trade Costs\n",
    "                 lam_3, #Volatility\n",
    "                 t=None, #Initial Trades (store as tf Variable)\n",
    "                 theta_1=0.2, #Cash\n",
    "                 theta_2=0.2, #Beta\n",
    "                 theta_3=3.8, #Min Total Inv\n",
    "                 theta_4=4.2, #Max Total Inv,\n",
    "                 n_epochs=1000, #Epochs of Optimizer\n",
    "                 initial_learning_rate=1e-5\n",
    "                 ):\n",
    "        #Load all variables\n",
    "\n",
    "        lr_schedule = tf.keras.optimizers.schedules.ExponentialDecay(\n",
    "            initial_learning_rate,\n",
    "            decay_steps=25,\n",
    "            decay_rate=0.9,\n",
    "            staircase=True,\n",
    "        )\n",
    "        self.optimizer = tf.optimizers.Adam(learning_rate=lr_schedule)\n",
    "\n",
    "        c_sig=self.signal_dict[date_old][self.filter_dict[date_old]]\n",
    "        t = tf.Variable(np.zeros(c_sig.shape[0]), dtype=np.float64) if t is None else t\n",
    "        c_rev=self.rev_dict[date_old][self.filter_dict[date_old]]\n",
    "        c_A=weight_matrix(self.price_dict[date_old],self.coef_matrix)[filter_dict[date_old]].T\n",
    "        c_cov=self.data.load_data(date_old,dtype='cov')\n",
    "        c_beta=self.data.load_data(date_old,dtype='beta')\n",
    "\n",
    "        def obj_func(t):\n",
    "            #OPTIMIZATION\n",
    "            ret = tf.reduce_sum(t * c_sig)\n",
    "            rev = tf.reduce_sum(t * c_rev)\n",
    "            c_w=tf.matmul(c_A,tf.expand_dims(t, axis=1))\n",
    "\n",
    "            tcosts = tf.reduce_sum(tf.abs(c_w-tf.expand_dims(c_w0,axis=1)))\n",
    "            vol=tf.reduce_sum(tf.matmul(tf.matmul(c_w,c_cov,transpose_a=True),c_w))\n",
    "            #PENALTIES\n",
    "            calc_cash=tf.abs(tf.reduce_sum(tf.matmul(tf.expand_dims(np.ones(c_beta.shape), axis=1),c_w,transpose_a=True)))\n",
    "            cash_penalty=(tf.maximum(theta_1,calc_cash)-theta_1)\n",
    "\n",
    "            calc_beta=tf.abs(tf.reduce_sum(tf.matmul(tf.expand_dims(c_beta, axis=1),c_w,transpose_a=True)))\n",
    "            beta_penalty=(tf.maximum(theta_2,calc_beta)-theta_2)\n",
    "\n",
    "            total_weight=tf.reduce_sum(tf.matmul(tf.abs(c_w),np.ones(c_w.shape),transpose_a=True))\n",
    "            weight_penalty=(tf.maximum(total_weight,theta_4)-theta_4)+(theta_3-tf.minimum(total_weight,theta_3))\n",
    "            #print(ret,rev,tcosts,vol)\n",
    "            #print(cash_penalty,beta_penalty,weight_penalty)\n",
    "            return (-(10*ret + lam_1*rev - lam_2*tcosts - lam_3*vol))+(1e6*(cash_penalty+beta_penalty+weight_penalty))\n",
    "\n",
    "        def compute_gradients(t):\n",
    "            with tf.GradientTape() as tape:\n",
    "                loss = obj_func(t)\n",
    "            return tape.gradient(loss, t)\n",
    "        \n",
    "        for epoch in range(n_epochs):\n",
    "            grads = compute_gradients(t)\n",
    "            self.optimizer.apply_gradients(zip([grads], [t]))\n",
    "            if epoch % 10 == 0:\n",
    "                print(f\"Epoch {epoch}, Objective value: {obj_func(t).numpy()}\")\n",
    "        \n",
    "        return t,c_A@t,c_beta,c_cov\n",
    "        "
   ]
  },
  {
   "cell_type": "code",
   "execution_count": 33,
   "metadata": {},
   "outputs": [],
   "source": [
    "opt=optimizer(data,signal_dict,rev_dict,price_dict,filter_dict,coef_matrix)"
   ]
  },
  {
   "cell_type": "code",
   "execution_count": 34,
   "metadata": {},
   "outputs": [],
   "source": [
    "dates_used=data.all_dates()[data.all_dates()>=pd.Timestamp(dt.date(2021,12,31))]"
   ]
  },
  {
   "cell_type": "code",
   "execution_count": 104,
   "metadata": {},
   "outputs": [
    {
     "name": "stdout",
     "output_type": "stream",
     "text": [
      "Epoch 0, Objective value: 3620090.828020268\n",
      "Epoch 10, Objective value: 908105.495231476\n",
      "Epoch 20, Objective value: 596795.4439241101\n",
      "Epoch 30, Objective value: 102457.94095275569\n",
      "Epoch 40, Objective value: -0.4591239390786829\n",
      "Epoch 50, Objective value: -0.4566586777725268\n",
      "Epoch 60, Objective value: -0.44562213547854845\n",
      "Epoch 70, Objective value: -0.4414389154909679\n",
      "Epoch 80, Objective value: -0.43994624168920055\n",
      "Epoch 90, Objective value: -0.43942243254191093\n",
      "Epoch 100, Objective value: -0.43923116336032175\n",
      "Epoch 0, Objective value: -0.5187088783945931\n",
      "Epoch 10, Objective value: -0.7062593104426744\n",
      "Epoch 20, Objective value: -0.6758788202669214\n",
      "Epoch 30, Objective value: -0.6644090212075021\n",
      "Epoch 40, Objective value: -0.6601431786345332\n",
      "Epoch 50, Objective value: -0.6585246709879118\n",
      "Epoch 60, Objective value: -0.6580166548824601\n",
      "Epoch 70, Objective value: -0.6578829922140149\n",
      "Epoch 80, Objective value: -0.6578936925997282\n",
      "Epoch 90, Objective value: -0.6579574341270664\n",
      "Epoch 100, Objective value: -0.6580425718679078\n",
      "Epoch 0, Objective value: -0.7373547483155567\n",
      "Epoch 10, Objective value: -0.9459226819943803\n",
      "Epoch 20, Objective value: -0.9388299381058076\n",
      "Epoch 30, Objective value: -0.9423924417183007\n",
      "Epoch 40, Objective value: -0.949341740767012\n",
      "Epoch 50, Objective value: -0.9520335356103965\n",
      "Epoch 60, Objective value: -0.9529726449993429\n",
      "Epoch 70, Objective value: -0.9533321159739381\n",
      "Epoch 80, Objective value: -0.9534640354031223\n",
      "Epoch 90, Objective value: -0.9535141332317071\n",
      "Epoch 100, Objective value: -0.9535363865187874\n",
      "Epoch 0, Objective value: -1.032019929228941\n",
      "Epoch 10, Objective value: -1.1078293009544629\n",
      "Epoch 20, Objective value: 33594.15431100727\n",
      "Epoch 30, Objective value: -1.1034700643131954\n",
      "Epoch 40, Objective value: -1.0935906129898971\n",
      "Epoch 50, Objective value: -1.0897697945748333\n",
      "Epoch 60, Objective value: -1.0884444594011569\n",
      "Epoch 70, Objective value: -1.0879456650446249\n",
      "Epoch 80, Objective value: -1.08777109391522\n",
      "Epoch 90, Objective value: -1.0877133498140379\n",
      "Epoch 100, Objective value: -1.087695919912476\n"
     ]
    }
   ],
   "source": [
    "date_old=dates_used[0]\n",
    "date_new=dates_used[1]\n",
    "\n",
    "t,w,beta,cov=opt.optimize(np.array([float(0)]*497).T,date_old,lam_1=0.2,lam_2=0.1,lam_3=1,n_epochs=101)\n",
    "t,w,beta,cov=opt.optimize(np.array([float(0)]*497).T,date_old,lam_1=0.2,lam_2=0.1,lam_3=1,n_epochs=101,t=t)\n",
    "t,w,beta,cov=opt.optimize(np.array([float(0)]*497).T,date_old,lam_1=0.2,lam_2=0.1,lam_3=1,n_epochs=101,t=t)\n",
    "t,w,beta,cov=opt.optimize(np.array([float(0)]*497).T,date_old,lam_1=0.2,lam_2=0.1,lam_3=1,n_epochs=101,t=t)"
   ]
  },
  {
   "cell_type": "code",
   "execution_count": 105,
   "metadata": {},
   "outputs": [
    {
     "name": "stdout",
     "output_type": "stream",
     "text": [
      "Net Position:  -0.14398011432173644\n",
      "Total Position:  4.011206094151705\n",
      "Beta:  0.02425779553460182\n",
      "Vol:  9.775407867481984\n"
     ]
    }
   ],
   "source": [
    "print('Net Position: ',np.sum(w))\n",
    "print('Total Position: ',np.sum(np.abs(w)))\n",
    "print('Beta: ',np.sum(w*beta))\n",
    "print('Vol: ',100*np.sqrt(w.T@cov@w))"
   ]
  },
  {
   "cell_type": "code",
   "execution_count": 106,
   "metadata": {},
   "outputs": [],
   "source": [
    "#Only for first trade\n",
    "w_0=w.copy()\n",
    "w_0[:]=0"
   ]
  },
  {
   "cell_type": "code",
   "execution_count": 107,
   "metadata": {},
   "outputs": [
    {
     "data": {
      "text/plain": [
       "0.025992455824379812"
      ]
     },
     "execution_count": 107,
     "metadata": {},
     "output_type": "execute_result"
    }
   ],
   "source": [
    "(opt.pnl.calc_pnl(100e6,date_new,w_0,w,return_type='all')[0]/100e6)-1"
   ]
  },
  {
   "cell_type": "code",
   "execution_count": 108,
   "metadata": {},
   "outputs": [
    {
     "data": {
      "text/plain": [
       "(102599245.58243799,\n",
       " FOX    -0.001560\n",
       " NOW     0.006906\n",
       " AMCR    0.010405\n",
       " JPM    -0.002480\n",
       " KO      0.012748\n",
       "           ...   \n",
       " NWSA   -0.001493\n",
       " CCI    -0.016022\n",
       " APTV   -0.000440\n",
       " LVS     0.001405\n",
       " MOH     0.017686\n",
       " Length: 497, dtype: float64,\n",
       " 200560.30470758502,\n",
       " 8824.653407133741,\n",
       " 37396.67587626097,\n",
       " 11937.475750755082,\n",
       " 2759296.3889256977)"
      ]
     },
     "execution_count": 108,
     "metadata": {},
     "output_type": "execute_result"
    }
   ],
   "source": [
    "opt.pnl.calc_pnl(100e6,date_new,w_0,w,return_type='all')"
   ]
  },
  {
   "cell_type": "code",
   "execution_count": null,
   "metadata": {},
   "outputs": [],
   "source": []
  }
 ],
 "metadata": {
  "kernelspec": {
   "display_name": "Python 3",
   "language": "python",
   "name": "python3"
  },
  "language_info": {
   "codemirror_mode": {
    "name": "ipython",
    "version": 3
   },
   "file_extension": ".py",
   "mimetype": "text/x-python",
   "name": "python",
   "nbconvert_exporter": "python",
   "pygments_lexer": "ipython3",
   "version": "3.11.5"
  }
 },
 "nbformat": 4,
 "nbformat_minor": 2
}
