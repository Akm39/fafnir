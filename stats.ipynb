{
 "cells": [
  {
   "cell_type": "code",
   "execution_count": 17,
   "id": "ef3e7737-2824-4f83-a5c9-9cc2ec449a2e",
   "metadata": {},
   "outputs": [],
   "source": [
    "import pickle\n",
    "\n",
    "file_path = '/Users/st.george/Desktop/1_3_10_testing_good.pkl'\n",
    "with open(file_path, 'rb') as file:\n",
    "    data = pickle.load(file)"
   ]
  },
  {
   "cell_type": "code",
   "execution_count": 45,
   "id": "3fb4c23a-838f-4bab-9dcb-e51fdb8a9e2c",
   "metadata": {},
   "outputs": [],
   "source": [
    "#alpha & beta\n",
    "import yfinance as yf\n",
    "import statsmodels.api as sm\n",
    "\n",
    "sp500 = yf.download('^GSPC', start='2024-01-02', end='2024-11-01', progress=False)\n",
    "\n",
    "sp500['Daily Returns'] = sp500['Adj Close'].pct_change().fillna(0)\n",
    "\n",
    "benchmark_returns = sp500['Daily Returns']\n",
    "daily_returns.index = benchmark_returns.index\n",
    "\n",
    "\n",
    "aligned_returns = pd.concat([daily_returns, benchmark_returns], axis=1).dropna()\n",
    "\n",
    "portfolio_returns = aligned_returns.iloc[:, 0]\n",
    "benchmark_returns = aligned_returns.iloc[:, 1]\n",
    "\n",
    "X = sm.add_constant(benchmark_returns)  \n",
    "\n",
    "model = sm.OLS(portfolio_returns, X).fit()\n",
    "\n",
    "alpha = model.params['const'] * 252  \n",
    "beta = model.params[benchmark_returns.name]  "
   ]
  },
  {
   "cell_type": "code",
   "execution_count": 47,
   "id": "dbce0e26-8ef6-4121-86ca-73b76aa512ca",
   "metadata": {},
   "outputs": [
    {
     "data": {
      "text/plain": [
       "{'Annualized Return': 0.16175989516537959,\n",
       " 'Annualized Volatility': 0.0677319719354648,\n",
       " 'Sharpe Ratio': 1.5521117139481466,\n",
       " 'Maximum Drawdown': -0.035903252099580396,\n",
       " '95% Value at Risk': -0.006842473222746863,\n",
       " 'Sortino Ratio': 2.6942350643985686,\n",
       " 'Skewness': 0.08449200518750445,\n",
       " 'Excess Kurtosis': 2.4273546564100745,\n",
       " 'Alpha': 0.1535929729245607,\n",
       " 'Beta': -0.015803722958610728}"
      ]
     },
     "execution_count": 47,
     "metadata": {},
     "output_type": "execute_result"
    }
   ],
   "source": [
    "import pandas as pd\n",
    "import numpy as np\n",
    "\n",
    "daily_pnl = data['daily_pnl']\n",
    "daily_pnl_series = pd.Series(daily_pnl)\n",
    "\n",
    "initial_portfolio_value = 100000000  \n",
    "daily_returns = daily_pnl_series / initial_portfolio_value\n",
    "\n",
    "cumulative_returns = (1 + daily_returns).cumprod()\n",
    "\n",
    "def annualized_return(returns):\n",
    "    return (1 + returns.mean()) ** 252 - 1\n",
    "\n",
    "def annualized_volatility(returns):\n",
    "    return returns.std() * np.sqrt(252)\n",
    "\n",
    "def sharpe_ratio(returns, risk_free_rate=0.05):\n",
    "    excess_returns = returns - risk_free_rate / 252\n",
    "    return annualized_return(excess_returns) / annualized_volatility(returns)\n",
    "\n",
    "def maximum_drawdown(returns):\n",
    "    cumulative = (1 + returns).cumprod()\n",
    "    peak = cumulative.cummax()\n",
    "    drawdown = (cumulative - peak) / peak\n",
    "    return drawdown.min()\n",
    "\n",
    "def value_at_risk(returns, level=0.05):\n",
    "    return np.percentile(returns, level * 100)\n",
    "\n",
    "def sortino_ratio(returns, risk_free_rate=0.03):\n",
    "    downside_returns = returns[returns < 0]\n",
    "    excess_returns = returns - risk_free_rate / 252\n",
    "    return annualized_return(excess_returns) / (downside_returns.std() * np.sqrt(252))\n",
    "\n",
    "def skewness(returns):\n",
    "    return returns.skew()\n",
    "\n",
    "def kurtosis(returns):\n",
    "    return returns.kurt()\n",
    "\n",
    "metrics = {\n",
    "    \"Annualized Return\": annualized_return(daily_returns),\n",
    "    \"Annualized Volatility\": annualized_volatility(daily_returns),\n",
    "    \"Sharpe Ratio\": sharpe_ratio(daily_returns),\n",
    "    \"Maximum Drawdown\": maximum_drawdown(daily_returns),\n",
    "    \"95% Value at Risk\": value_at_risk(daily_returns),\n",
    "    \"Sortino Ratio\": sortino_ratio(daily_returns),\n",
    "    \"Skewness\": skewness(daily_returns),\n",
    "    \"Excess Kurtosis\": kurtosis(daily_returns),\n",
    "    \"Alpha\": alpha,\n",
    "    \"Beta\": beta\n",
    "}\n",
    "\n",
    "metrics\n"
   ]
  },
  {
   "cell_type": "code",
   "execution_count": 59,
   "id": "668835a9-a5f3-4e41-b5e8-a0617a78da0b",
   "metadata": {},
   "outputs": [
    {
     "name": "stdout",
     "output_type": "stream",
     "text": [
      "                              0\n",
      "Annualized Return      0.161760\n",
      "Annualized Volatility  0.067732\n",
      "Sharpe Ratio           1.552112\n",
      "Maximum Drawdown      -0.035903\n",
      "95% Value at Risk     -0.006842\n",
      "Sortino Ratio          2.694235\n",
      "Skewness               0.084492\n",
      "Excess Kurtosis        2.427355\n",
      "Alpha                  0.153593\n",
      "Beta                  -0.015804\n"
     ]
    }
   ],
   "source": [
    "measurement = pd.DataFrame(metrics, index = [0]).T\n",
    "print(measurement)"
   ]
  },
  {
   "cell_type": "code",
   "execution_count": 65,
   "id": "8d471aa5-90c7-4902-9b46-631d49a2394a",
   "metadata": {},
   "outputs": [],
   "source": [
    "measurement.to_excel(\"/Users/st.george/Desktop/measurement.xlsx\")"
   ]
  },
  {
   "cell_type": "code",
   "execution_count": null,
   "id": "6e2b010f-9944-463d-acb1-de9d82c38fa3",
   "metadata": {},
   "outputs": [],
   "source": []
  }
 ],
 "metadata": {
  "kernelspec": {
   "display_name": "Python 3 (ipykernel)",
   "language": "python",
   "name": "python3"
  },
  "language_info": {
   "codemirror_mode": {
    "name": "ipython",
    "version": 3
   },
   "file_extension": ".py",
   "mimetype": "text/x-python",
   "name": "python",
   "nbconvert_exporter": "python",
   "pygments_lexer": "ipython3",
   "version": "3.12.4"
  }
 },
 "nbformat": 4,
 "nbformat_minor": 5
}
